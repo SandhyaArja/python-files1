{
 "cells": [
  {
   "cell_type": "code",
   "execution_count": 8,
   "id": "152451ea",
   "metadata": {},
   "outputs": [],
   "source": [
    "from threading import *\n",
    "#threading by using without class"
   ]
  },
  {
   "cell_type": "code",
   "execution_count": 18,
   "id": "1bcb45b2",
   "metadata": {},
   "outputs": [
    {
     "name": "stdout",
     "output_type": "stream",
     "text": [
      "cab.... Thread-12\n",
      "cab.... Thread-12\n",
      "cab.... Thread-12\n",
      "cab.... Thread-12start MainThread\n",
      "\n",
      "cab.... Thread-12\n",
      "cab.... Thread-12\n"
     ]
    }
   ],
   "source": [
    "def new():\n",
    "    for i in range(6):\n",
    "        print(\"cab....\",current_thread().getName())\n",
    "t1=Thread(target=new)\n",
    "t1.start()\n",
    "print(\"start\",current_thread().getName())"
   ]
  },
  {
   "cell_type": "markdown",
   "id": "bfd52555",
   "metadata": {},
   "source": [
    "# by extending the thread class"
   ]
  },
  {
   "cell_type": "code",
   "execution_count": 22,
   "id": "6d4a4145",
   "metadata": {},
   "outputs": [
    {
     "name": "stdout",
     "output_type": "stream",
     "text": [
      "child = Thread-15\n",
      "child = Thread-15\n",
      "child = Thread-15\n",
      "child = Thread-15\n",
      "child = Thread-15\n",
      "child = Thread-15\n",
      "child = Thread-15\n",
      "controlling return to MainThread\n"
     ]
    }
   ],
   "source": [
    "import threading\n",
    "class A(threading.Thread):\n",
    "    def run(self):\n",
    "        for i in range(7):\n",
    "            print(\"child =\",current_thread().getName())\n",
    "obj=A()\n",
    "obj.start()\n",
    "obj.join()\n",
    "print(\"controlling return to\",current_thread().getName())\n"
   ]
  },
  {
   "cell_type": "markdown",
   "id": "1efb89c8",
   "metadata": {},
   "source": [
    "# by with out extending the thread class"
   ]
  },
  {
   "cell_type": "code",
   "execution_count": 27,
   "id": "75e31c0b",
   "metadata": {},
   "outputs": [
    {
     "name": "stdout",
     "output_type": "stream",
     "text": [
      "child printing 2\n",
      "child printing 4\n",
      "child printing w\n",
      "child printing 8\n",
      "child printing 7\n",
      "child printing abc\n",
      "done\n"
     ]
    }
   ],
   "source": [
    "\n",
    "class B:\n",
    "    def run(self):\n",
    "        lst=[2,4,\"w\",8,7,\"abc\"]\n",
    "        for item in lst:\n",
    "            print(\"child printing\",item)\n",
    "obj=B()\n",
    "obj=Thread(target=obj.run)\n",
    "obj.start()\n",
    "obj.join()\n",
    "print(\"done\")"
   ]
  },
  {
   "cell_type": "code",
   "execution_count": null,
   "id": "554f3263",
   "metadata": {},
   "outputs": [],
   "source": []
  }
 ],
 "metadata": {
  "kernelspec": {
   "display_name": "Python 3",
   "language": "python",
   "name": "python3"
  },
  "language_info": {
   "codemirror_mode": {
    "name": "ipython",
    "version": 3
   },
   "file_extension": ".py",
   "mimetype": "text/x-python",
   "name": "python",
   "nbconvert_exporter": "python",
   "pygments_lexer": "ipython3",
   "version": "3.6.9"
  }
 },
 "nbformat": 4,
 "nbformat_minor": 5
}
